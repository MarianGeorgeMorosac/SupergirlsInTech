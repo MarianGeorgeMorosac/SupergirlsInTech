{
 "cells": [
  {
   "cell_type": "code",
   "execution_count": 1,
   "metadata": {},
   "outputs": [],
   "source": [
    "# import data using pandas and create an instance of pandas.DataFrame\n",
    "# Hint: \n",
    "# import pandas as pd"
   ]
  },
  {
   "cell_type": "code",
   "execution_count": 2,
   "metadata": {},
   "outputs": [],
   "source": [
    "# get the path of your dataset file, relative to your notebook_path; ex: 'participants/participants.csv'\n",
    "# Hint: \n",
    "# dataset_file_path = 'Your participants.csv file path'\n",
    "\n",
    "# read the csv file ; no extra arguments required\n",
    "# Hint: \n",
    "# df = pd.read_csv(dataset_file_path)\n",
    "\n",
    "# check the type of df\n",
    "# Hint: \n",
    "# type(df) "
   ]
  },
  {
   "cell_type": "code",
   "execution_count": 3,
   "metadata": {
    "collapsed": true
   },
   "outputs": [],
   "source": [
    "# use .head() and .tail() to get a glimpse of what the file looks like\n",
    "# obs: pd.read_csv crated an index column\n",
    "# Hint: \n",
    "# df.head() # returns first 5 entries"
   ]
  },
  {
   "cell_type": "code",
   "execution_count": 4,
   "metadata": {
    "collapsed": true
   },
   "outputs": [],
   "source": [
    "# Hint: \n",
    "# df.tail() # returns the last 5 entries"
   ]
  },
  {
   "cell_type": "code",
   "execution_count": 5,
   "metadata": {},
   "outputs": [],
   "source": [
    "# we can see that the column labels (header) are somehow confusing; \n",
    "# we can use another header, from '/participants/participants-header-aliases.txt'\n",
    "# Hint: \n",
    "# alias_header_file_path = 'Your participants-header-aliases.txt file path' \n",
    "\n",
    "# read the alias header\n",
    "# Hint: \n",
    "# alias_header = open(alias_header_file_path, 'r').readline().split(',')\n",
    "\n",
    "# set the new header\n",
    "# Hint: \n",
    "# df.columns = alias_header"
   ]
  },
  {
   "cell_type": "code",
   "execution_count": 6,
   "metadata": {
    "collapsed": true
   },
   "outputs": [],
   "source": [
    "# lets look into the set of values using .info()\n",
    "# Hint: \n",
    "# df.info()"
   ]
  },
  {
   "cell_type": "code",
   "execution_count": 7,
   "metadata": {
    "collapsed": true
   },
   "outputs": [],
   "source": [
    "# we can see that the 'attending' column contains null values\n",
    "# let's replace the null values for the 'attending' column with the 'unknown' value\n",
    "# Hint: \n",
    "# df['attending'] = df['attending'].fillna('unknown')\n",
    "\n",
    "# display the new 'attending values\n",
    "# Hint: \n",
    "# df['attending']"
   ]
  },
  {
   "cell_type": "code",
   "execution_count": 8,
   "metadata": {},
   "outputs": [],
   "source": [
    "# the studies column isn't relevant to us; let's delete it\n",
    "# Hint: \n",
    "# del df['studies']\n",
    "\n",
    "# display current columns list\n",
    "# Hint: \n",
    "# print(df.columns)"
   ]
  },
  {
   "cell_type": "code",
   "execution_count": 9,
   "metadata": {
    "collapsed": true
   },
   "outputs": [],
   "source": [
    "# the 'decisions frequency' column contains values that are too explicit; let's replace them\n",
    "# Hint: \n",
    "# frequency_aliases = { 'More than a couple of times': 'Frequently', 'A couple of times': 'Sometimes', 'Never': 'Never','Once': 'Once'}\n",
    "# df['decisions frequency'] = df['decisions frequency'].map(frequency_aliases)\n",
    "\n",
    "# display the new frequencies\n",
    "# Hint: \n",
    "# df['decisions frequency']"
   ]
  },
  {
   "cell_type": "code",
   "execution_count": 10,
   "metadata": {
    "collapsed": true
   },
   "outputs": [],
   "source": [
    "# display the status of participants \n",
    "# Hint: \n",
    "# df['status'].value_counts().plot(kind='bar', color=['g', 'r', 'r'], title='Participants Status')\n"
   ]
  },
  {
   "cell_type": "code",
   "execution_count": 11,
   "metadata": {
    "collapsed": true
   },
   "outputs": [],
   "source": [
    "# extract those participants that have been selected\n",
    "# Hint: \n",
    "# df_fit = df[df['status'] == 'fit']\n",
    "\n",
    "# display the new DataFrame\n",
    "# Hint: \n",
    "# df_fit"
   ]
  },
  {
   "cell_type": "code",
   "execution_count": 12,
   "metadata": {},
   "outputs": [],
   "source": [
    "# delete the status column\n",
    "# Hint: \n",
    "# del df_fit['status']"
   ]
  },
  {
   "cell_type": "code",
   "execution_count": 13,
   "metadata": {
    "collapsed": true
   },
   "outputs": [],
   "source": [
    "# display the attendance\n",
    "# Hint: \n",
    "# df_fit['attending'].value_counts().plot(kind='bar', color=['g', 'b', 'r'], title='Participants Attending')\n",
    "\n"
   ]
  },
  {
   "cell_type": "code",
   "execution_count": 14,
   "metadata": {},
   "outputs": [],
   "source": [
    "# gather data-driven decisions frequency\n",
    "# Hint: \n",
    "# data_decisions = {}\n",
    "# for ind, frequency in df_fit['decisions frequency'].iteritems():\n",
    "#   if frequency not in data_decisions.keys():\n",
    "#       data_decisions[frequency] = 1\n",
    "#   else:\n",
    "#       data_decisions[frequency] += 1\n"
   ]
  },
  {
   "cell_type": "code",
   "execution_count": 15,
   "metadata": {},
   "outputs": [],
   "source": [
    "# construct DataFrame from frequencies\n",
    "# Hint:\n",
    "# import matplotlib.pyplot as plt\n",
    "# \n",
    "# frequency_types = ['Never', 'Once', 'Sometimes', 'Frequently']\n",
    "# frequency_values = [data_decisions[type] for type in frequency_types]\n",
    "# \n",
    "# plt.bar(range(len(frequency_types)), frequency_values)\n",
    "# plt.xticks(range(len(frequency_types)), frequency_types)\n",
    "# plt.show()"
   ]
  },
  {
   "cell_type": "code",
   "execution_count": 16,
   "metadata": {},
   "outputs": [],
   "source": [
    "# gather data sources frequency\n",
    "# Hint:\n",
    "# data_sources = {}\n",
    "# for ind, sources in df_fit['data sources'].iteritems():\n",
    "#     for source in sources.split(';'):\n",
    "#         if source not in data_sources.keys():\n",
    "#             data_sources[source] = 1\n",
    "#         else:\n",
    "#             data_sources[source] += 1"
   ]
  },
  {
   "cell_type": "code",
   "execution_count": 17,
   "metadata": {},
   "outputs": [],
   "source": [
    "# construct DataFrame from frequencies\n",
    "# Hint: \n",
    "# df_sources = pd.DataFrame.from_dict(data_sources, orient='index').plot(kind='bar', legend=False)\n",
    "\n",
    "# SQL (via DB visual tools) and Excel can export to CSV in order to create a DataFrame\n",
    "# Web (most likely JSON format) can be used as an argument to pd.DataFrame()"
   ]
  },
  {
   "cell_type": "code",
   "execution_count": 18,
   "metadata": {},
   "outputs": [],
   "source": [
    "# Hint: \n",
    "# df_fit.info()"
   ]
  },
  {
   "cell_type": "code",
   "execution_count": 19,
   "metadata": {},
   "outputs": [],
   "source": [
    "# get key stats of participants skills\n",
    "# Hint: \n",
    "# skills = ['python', 'pandas', 'matplotlib']\n",
    "# df_fit[skills].describe()"
   ]
  },
  {
   "cell_type": "code",
   "execution_count": 20,
   "metadata": {},
   "outputs": [],
   "source": [
    "# Select subset of skills using numpy boolean-array selection\n",
    "# Hint: \n",
    "# df_fit[df_fit['python'] == 2]"
   ]
  },
  {
   "cell_type": "code",
   "execution_count": 21,
   "metadata": {},
   "outputs": [],
   "source": [
    "# sort by python skill\n",
    "# Hint: \n",
    "# df_fit = df_fit.sort_values('python', axis=0, ascending=True)\n",
    "\n",
    "# display \n",
    "# Hint: \n",
    "# df_fit\n",
    "\n",
    "# notice the indexes are now mixed; we have to update the index column\n",
    "# Hint: \n",
    "# df_fit.index = [i for i in range(len(df_fit))]"
   ]
  },
  {
   "cell_type": "code",
   "execution_count": 22,
   "metadata": {},
   "outputs": [],
   "source": [
    "# hist plot skills\n",
    "# Hint: \n",
    "# df_fit[skills].plot(kind='hist', bins=5, range=(1,5), alpha=0.3)\n",
    "# plt.xlabel('Level')\n",
    "# plt.show()"
   ]
  },
  {
   "cell_type": "code",
   "execution_count": 23,
   "metadata": {},
   "outputs": [],
   "source": [
    "# check the correlation between skills\n",
    "# Hint: \n",
    "# df_fit[skills].corr()\n",
    "\n",
    "# visually check the correlation\n",
    "# Hint:\n",
    "# plt.matshow(df_fit[skills].corr())"
   ]
  },
  {
   "cell_type": "code",
   "execution_count": null,
   "metadata": {},
   "outputs": [],
   "source": []
  }
 ],
 "metadata": {
  "kernelspec": {
   "display_name": "Python 2",
   "language": "python",
   "name": "python2"
  },
  "language_info": {
   "codemirror_mode": {
    "name": "ipython",
    "version": 3
   },
   "file_extension": ".py",
   "mimetype": "text/x-python",
   "name": "python",
   "nbconvert_exporter": "python",
   "pygments_lexer": "ipython3",
   "version": "3.6.1"
  }
 },
 "nbformat": 4,
 "nbformat_minor": 1
}
